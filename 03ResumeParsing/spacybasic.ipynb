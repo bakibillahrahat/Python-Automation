{
  "nbformat": 4,
  "nbformat_minor": 0,
  "metadata": {
    "colab": {
      "provenance": [],
      "authorship_tag": "ABX9TyP+pLrJm/S+H1v58LGZraIK",
      "include_colab_link": true
    },
    "kernelspec": {
      "name": "python3",
      "display_name": "Python 3"
    },
    "language_info": {
      "name": "python"
    }
  },
  "cells": [
    {
      "cell_type": "markdown",
      "metadata": {
        "id": "view-in-github",
        "colab_type": "text"
      },
      "source": [
        "<a href=\"https://colab.research.google.com/github/bakibillahrahat/Python-Automation/blob/main/03ResumeParsing/spacybasic.ipynb\" target=\"_parent\"><img src=\"https://colab.research.google.com/assets/colab-badge.svg\" alt=\"Open In Colab\"/></a>"
      ]
    },
    {
      "cell_type": "markdown",
      "source": [
        "# Import Library"
      ],
      "metadata": {
        "id": "nxPPk8g2sZ2m"
      }
    },
    {
      "cell_type": "code",
      "execution_count": 1,
      "metadata": {
        "id": "GyivCWZMsPTD"
      },
      "outputs": [],
      "source": [
        "import spacy"
      ]
    },
    {
      "cell_type": "markdown",
      "source": [
        "# Load English tokenizer, tagger, parser, NER and word vectors"
      ],
      "metadata": {
        "id": "Lcecxk_hsgJH"
      }
    },
    {
      "cell_type": "code",
      "source": [
        "nlp = spacy.load(\"en_core_web_sm\")"
      ],
      "metadata": {
        "id": "MzznatMUsU_r"
      },
      "execution_count": 2,
      "outputs": []
    },
    {
      "cell_type": "markdown",
      "source": [
        "# Sample Text"
      ],
      "metadata": {
        "id": "v2K6ngXusmrE"
      }
    },
    {
      "cell_type": "code",
      "source": [
        "# Process whole documents\n",
        "text = \"Google was initially funded by an August 1998 contribution of $100,000 from Andy Bechtolsheim, co-founder of Sun Microsystems; the money was given before Google was incorporated.[30] Google received money from three other angel investors in 1998: Amazon.com founder Jeff Bezos, Stanford University computer science professor David Cheriton, and entrepreneur Ram Shriram.[31] Between these initial investors, friends, and family Google raised around 1 million dollars, which is what allowed them to open up their original shop in Menlo Park, California\"\n",
        "text"
      ],
      "metadata": {
        "colab": {
          "base_uri": "https://localhost:8080/",
          "height": 89
        },
        "id": "b3SlqFqfsowM",
        "outputId": "797b0530-594a-436c-e299-a470e6853ef1"
      },
      "execution_count": 3,
      "outputs": [
        {
          "output_type": "execute_result",
          "data": {
            "text/plain": [
              "'Google was initially funded by an August 1998 contribution of $100,000 from Andy Bechtolsheim, co-founder of Sun Microsystems; the money was given before Google was incorporated.[30] Google received money from three other angel investors in 1998: Amazon.com founder Jeff Bezos, Stanford University computer science professor David Cheriton, and entrepreneur Ram Shriram.[31] Between these initial investors, friends, and family Google raised around 1 million dollars, which is what allowed them to open up their original shop in Menlo Park, California'"
            ],
            "application/vnd.google.colaboratory.intrinsic+json": {
              "type": "string"
            }
          },
          "metadata": {},
          "execution_count": 3
        }
      ]
    },
    {
      "cell_type": "markdown",
      "source": [
        "# NLP at Work"
      ],
      "metadata": {
        "id": "XGYRKzAYs4vJ"
      }
    },
    {
      "cell_type": "code",
      "source": [
        "doc = nlp(text)\n",
        "doc"
      ],
      "metadata": {
        "colab": {
          "base_uri": "https://localhost:8080/"
        },
        "id": "np2oW_l6s5ge",
        "outputId": "bde8fcb5-1413-4e9e-cef5-f8ceda0a932b"
      },
      "execution_count": 4,
      "outputs": [
        {
          "output_type": "execute_result",
          "data": {
            "text/plain": [
              "Google was initially funded by an August 1998 contribution of $100,000 from Andy Bechtolsheim, co-founder of Sun Microsystems; the money was given before Google was incorporated.[30] Google received money from three other angel investors in 1998: Amazon.com founder Jeff Bezos, Stanford University computer science professor David Cheriton, and entrepreneur Ram Shriram.[31] Between these initial investors, friends, and family Google raised around 1 million dollars, which is what allowed them to open up their original shop in Menlo Park, California"
            ]
          },
          "metadata": {},
          "execution_count": 4
        }
      ]
    },
    {
      "cell_type": "markdown",
      "source": [
        "# Tokenization"
      ],
      "metadata": {
        "id": "NfrRZfl1tEvn"
      }
    },
    {
      "cell_type": "code",
      "source": [
        "for token in doc:\n",
        "    print(token)"
      ],
      "metadata": {
        "colab": {
          "base_uri": "https://localhost:8080/"
        },
        "id": "TZdpsE-VtDWF",
        "outputId": "eb1d3a36-d923-4890-b875-ed07836a3c3d"
      },
      "execution_count": 5,
      "outputs": [
        {
          "output_type": "stream",
          "name": "stdout",
          "text": [
            "Google\n",
            "was\n",
            "initially\n",
            "funded\n",
            "by\n",
            "an\n",
            "August\n",
            "1998\n",
            "contribution\n",
            "of\n",
            "$\n",
            "100,000\n",
            "from\n",
            "Andy\n",
            "Bechtolsheim\n",
            ",\n",
            "co\n",
            "-\n",
            "founder\n",
            "of\n",
            "Sun\n",
            "Microsystems\n",
            ";\n",
            "the\n",
            "money\n",
            "was\n",
            "given\n",
            "before\n",
            "Google\n",
            "was\n",
            "incorporated.[30\n",
            "]\n",
            "Google\n",
            "received\n",
            "money\n",
            "from\n",
            "three\n",
            "other\n",
            "angel\n",
            "investors\n",
            "in\n",
            "1998\n",
            ":\n",
            "Amazon.com\n",
            "founder\n",
            "Jeff\n",
            "Bezos\n",
            ",\n",
            "Stanford\n",
            "University\n",
            "computer\n",
            "science\n",
            "professor\n",
            "David\n",
            "Cheriton\n",
            ",\n",
            "and\n",
            "entrepreneur\n",
            "Ram\n",
            "Shriram.[31\n",
            "]\n",
            "Between\n",
            "these\n",
            "initial\n",
            "investors\n",
            ",\n",
            "friends\n",
            ",\n",
            "and\n",
            "family\n",
            "Google\n",
            "raised\n",
            "around\n",
            "1\n",
            "million\n",
            "dollars\n",
            ",\n",
            "which\n",
            "is\n",
            "what\n",
            "allowed\n",
            "them\n",
            "to\n",
            "open\n",
            "up\n",
            "their\n",
            "original\n",
            "shop\n",
            "in\n",
            "Menlo\n",
            "Park\n",
            ",\n",
            "California\n"
          ]
        }
      ]
    },
    {
      "cell_type": "markdown",
      "source": [
        "# Only Noun"
      ],
      "metadata": {
        "id": "qCeQoiUftOLU"
      }
    },
    {
      "cell_type": "code",
      "source": [
        "for token in doc:\n",
        "    if token.pos_ == \"ADJ\":\n",
        "        print(token)"
      ],
      "metadata": {
        "colab": {
          "base_uri": "https://localhost:8080/"
        },
        "id": "wNGX53odtNdM",
        "outputId": "123bc848-f61a-4f6e-9ae2-886e068f14eb"
      },
      "execution_count": 6,
      "outputs": [
        {
          "output_type": "stream",
          "name": "stdout",
          "text": [
            "other\n",
            "initial\n",
            "original\n"
          ]
        }
      ]
    },
    {
      "cell_type": "markdown",
      "source": [
        "# Named Entity Recognition"
      ],
      "metadata": {
        "id": "huTbh8YDtXzE"
      }
    },
    {
      "cell_type": "code",
      "source": [
        "for entity in doc.ents:\n",
        "        print(entity.text, entity.label_)"
      ],
      "metadata": {
        "colab": {
          "base_uri": "https://localhost:8080/"
        },
        "id": "nizhd_J_tT60",
        "outputId": "f9d1ceaf-61be-4706-d0d0-5e5f32ebf70c"
      },
      "execution_count": 7,
      "outputs": [
        {
          "output_type": "stream",
          "name": "stdout",
          "text": [
            "Google ORG\n",
            "August 1998 DATE\n",
            "100,000 MONEY\n",
            "Andy Bechtolsheim PERSON\n",
            "Sun Microsystems ORG\n",
            "Google ORG\n",
            "incorporated.[30] Google PERSON\n",
            "three CARDINAL\n",
            "1998 DATE\n",
            "Amazon.com ORG\n",
            "Jeff Bezos PERSON\n",
            "Stanford University ORG\n",
            "David Cheriton PERSON\n",
            "Ram Shriram.[31 PERSON\n",
            "Google ORG\n",
            "around 1 million dollars MONEY\n",
            "Menlo Park GPE\n",
            "California GPE\n"
          ]
        }
      ]
    }
  ]
}